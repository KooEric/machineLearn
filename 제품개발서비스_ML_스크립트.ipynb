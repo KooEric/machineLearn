{
  "cells": [
    {
      "cell_type": "code",
      "execution_count": null,
      "metadata": {
        "id": "R3ZlS8VcArOz"
      },
      "outputs": [],
      "source": [
        "from xgboost import plot_importance\n",
        "from xgboost import XGBClassifier\n",
        "import matplotlib.pyplot as plt\n",
        "from sklearn.model_selection import train_test_split\n",
        "from sklearn.ensemble import RandomForestClassifier\n",
        "from sklearn.ensemble import AdaBoostClassifier\n",
        "from sklearn.linear_model import LogisticRegression\n",
        "import numpy as np\n",
        "import pandas as pd\n",
        "import sklearn.metrics\n",
        "from sklearn.model_selection import GridSearchCV\n",
        "import pymysql\n",
        "from sqlalchemy import create_engine\n",
        "%matplotlib inline"
      ]
    },
    {
      "cell_type": "code",
      "execution_count": null,
      "metadata": {
        "id": "gxqTT-SXArO2"
      },
      "outputs": [],
      "source": [
        "#172.30.1.211 서버내 test DB 생성 후 연결\n",
        "engine = create_engine(\"mysql+pymysql://{인턴과제}/smart_doctor?charset=utf8\",convert_unicode=True)\n",
        "conn = engine.connect()\n",
        "data = pd.read_sql_table('ODS_QUALITY',conn)"
      ]
    },
    {
      "cell_type": "code",
      "execution_count": null,
      "metadata": {
        "id": "KsFCilY8ArO3"
      },
      "outputs": [],
      "source": [
        "# 합 불 개수\n",
        "data.iloc[:,-1].value_counts()\n",
        "original_data = data.iloc[:,-1]"
      ]
    },
    {
      "cell_type": "code",
      "execution_count": null,
      "metadata": {
        "id": "YMV7-FKdArO3",
        "outputId": "82ede7a8-11cb-47a6-d41a-1d13d867b88f"
      },
      "outputs": [
        {
          "data": {
            "text/plain": [
              "0    85.042735\n",
              "1    11.794872\n",
              "2     2.051282\n",
              "3     0.769231\n",
              "4     0.341880\n",
              "Name: DEFECT_QTY, dtype: float64"
            ]
          },
          "execution_count": 4,
          "metadata": {},
          "output_type": "execute_result"
        }
      ],
      "source": [
        "# 비율 확인\n",
        "data.iloc[:, -1].value_counts()/len(data)*100"
      ]
    },
    {
      "cell_type": "code",
      "execution_count": null,
      "metadata": {
        "id": "9TTMugpqArO4"
      },
      "outputs": [],
      "source": [
        "# 합불 판별에 영향을 주는 4가지 컬럼 선택 - 판다스 getdummy함수 이용(범주형 변수 ->연속형 가변수)\n",
        "testsel = data.loc[:, ['EQUIPMENT_NM', 'ACT_QTY','DEFECT_KIND']]\n",
        "testdum = pd.get_dummies(testsel)"
      ]
    },
    {
      "cell_type": "code",
      "execution_count": null,
      "metadata": {
        "id": "dYFnX875ArO4"
      },
      "outputs": [],
      "source": [
        "X = testdum.loc[:]\n",
        "y = data.iloc[:, -1]"
      ]
    },
    {
      "cell_type": "code",
      "execution_count": null,
      "metadata": {
        "id": "3oVZZJlCArO5"
      },
      "outputs": [],
      "source": [
        "#테스트, 학습 데이터 분할 -> 25프로 = 테스트 데이터셋\n",
        "X_train, X_test, y_train, y_test = train_test_split(X,y, test_size=0.25, random_state=10)"
      ]
    },
    {
      "cell_type": "code",
      "execution_count": null,
      "metadata": {
        "id": "YQZGrFgdArO5",
        "outputId": "81b32bfb-a2d5-4a35-f1b0-4d3813d5c872"
      },
      "outputs": [
        {
          "name": "stdout",
          "output_type": "stream",
          "text": [
            "Fitting 5 folds for each of 100 candidates, totalling 500 fits\n"
          ]
        },
        {
          "name": "stderr",
          "output_type": "stream",
          "text": [
            "C:\\Users\\Atech\\Anaconda3\\lib\\site-packages\\sklearn\\model_selection\\_split.py:667: UserWarning: The least populated class in y has only 3 members, which is less than n_splits=5.\n",
            "  % (min_groups, self.n_splits)), UserWarning)\n",
            "[Parallel(n_jobs=-1)]: Using backend LokyBackend with 6 concurrent workers.\n",
            "[Parallel(n_jobs=-1)]: Done  38 tasks      | elapsed:    7.5s\n",
            "[Parallel(n_jobs=-1)]: Done 188 tasks      | elapsed:   30.4s\n",
            "[Parallel(n_jobs=-1)]: Done 438 tasks      | elapsed:  1.1min\n",
            "[Parallel(n_jobs=-1)]: Done 500 out of 500 | elapsed:  1.3min finished\n"
          ]
        },
        {
          "data": {
            "text/plain": [
              "GridSearchCV(cv=None, error_score=nan,\n",
              "             estimator=XGBClassifier(base_score=None, booster=None,\n",
              "                                     colsample_bylevel=None,\n",
              "                                     colsample_bynode=None,\n",
              "                                     colsample_bytree=None, gamma=None,\n",
              "                                     gpu_id=None, importance_type='gain',\n",
              "                                     interaction_constraints=None,\n",
              "                                     learning_rate=None, max_delta_step=None,\n",
              "                                     max_depth=None, min_child_weight=None,\n",
              "                                     missing=nan, monotone_constraints=None,\n",
              "                                     n_es...\n",
              "                                     random_state=None, reg_alpha=None,\n",
              "                                     reg_lambda=None, scale_pos_weight=None,\n",
              "                                     subsample=None, tree_method=None,\n",
              "                                     validate_parameters=False,\n",
              "                                     verbosity=None),\n",
              "             iid='deprecated', n_jobs=-1,\n",
              "             param_grid={'learning_rate': [0.01, 0.05, 0.1, 0.15, 0.2],\n",
              "                         'max_depth': [4, 6, 8, 10, 12],\n",
              "                         'n_estimators': [100, 200, 400, 600]},\n",
              "             pre_dispatch='2*n_jobs', refit=True, return_train_score=False,\n",
              "             scoring='accuracy', verbose=1)"
            ]
          },
          "execution_count": 8,
          "metadata": {},
          "output_type": "execute_result"
        }
      ],
      "source": [
        "xgb = XGBClassifier()\n",
        "\n",
        "xgb_param_grid ={\n",
        "    'n_estimators' : [100,200,400,600],\n",
        "    'learning_rate' : [0.01,0.05,0.1,0.15,0.2],\n",
        "    'max_depth' : [4,6,8,10,12]\n",
        "}\n",
        "xgb_grid = GridSearchCV(xgb, param_grid=xgb_param_grid, scoring= 'accuracy', n_jobs=-1, verbose=1)\n",
        "xgb_grid.fit(X_train, y_train)"
      ]
    },
    {
      "cell_type": "code",
      "execution_count": null,
      "metadata": {
        "id": "itCkiw82ArO7",
        "outputId": "5d55348f-c395-404a-f146-eef5177073cd"
      },
      "outputs": [
        {
          "name": "stdout",
          "output_type": "stream",
          "text": [
            "최고 평균 정확도 : 0.882552\n",
            "최고의 파라미터 : {'learning_rate': 0.01, 'max_depth': 4, 'n_estimators': 100}\n"
          ]
        }
      ],
      "source": [
        "# 파라미터 평가\n",
        "print(\"최고 평균 정확도 : {0:4f}\".format(xgb_grid.best_score_))\n",
        "print(\"최고의 파라미터 :\", xgb_grid.best_params_)"
      ]
    },
    {
      "cell_type": "code",
      "execution_count": null,
      "metadata": {
        "id": "BO1qQ2j-ArO7"
      },
      "outputs": [],
      "source": [
        "#최적의 값 확인 교차검증\n",
        "cv_result_df = pd.DataFrame(xgb_grid.cv_results_)\n",
        "cv_result_df.sort_values(by=['rank_test_score'],inplace=True)"
      ]
    },
    {
      "cell_type": "code",
      "execution_count": null,
      "metadata": {
        "id": "yO7CKy6sArO8"
      },
      "outputs": [],
      "source": [
        "xgb = XGBClassifier(n_estimators=100, learning_rate = 0.01, max_depth=4)\n",
        "xgb.fit(X_train,y_train)\n",
        "xgb_pred = xgb.predict(X_test)"
      ]
    },
    {
      "cell_type": "code",
      "execution_count": null,
      "metadata": {
        "id": "VuFRahDAArO9",
        "outputId": "8104fac2-264b-443e-9d59-af92dcf000fe"
      },
      "outputs": [
        {
          "name": "stdout",
          "output_type": "stream",
          "text": [
            "정확도 : 0.90\n"
          ]
        }
      ],
      "source": [
        "#xgboost 점수 평가\n",
        "print('정확도 : {:.2f}'.format(xgb.score(X_test,y_test)))"
      ]
    },
    {
      "cell_type": "code",
      "execution_count": null,
      "metadata": {
        "id": "FIJAdlJ7ArO9"
      },
      "outputs": [],
      "source": [
        "#스태킹 앙상블을 위한 부스팅알고리즘 선언\n",
        "rf_clf = RandomForestClassifier(n_estimators=100, random_state=0)\n",
        "ada_clf = AdaBoostClassifier(n_estimators=100)"
      ]
    },
    {
      "cell_type": "code",
      "execution_count": null,
      "metadata": {
        "id": "6Cx1ilLpArO9"
      },
      "outputs": [],
      "source": [
        "#마지막 분석은 회귀 분석으로 진행\n",
        "lr_final = LogisticRegression(C=10)"
      ]
    },
    {
      "cell_type": "code",
      "execution_count": null,
      "metadata": {
        "id": "Sip6S9_0ArO9",
        "outputId": "37b1ecf0-5707-4f53-ff80-40aaa198bfba"
      },
      "outputs": [
        {
          "data": {
            "text/plain": [
              "AdaBoostClassifier(algorithm='SAMME.R', base_estimator=None, learning_rate=1.0,\n",
              "                   n_estimators=100, random_state=None)"
            ]
          },
          "execution_count": 15,
          "metadata": {},
          "output_type": "execute_result"
        }
      ],
      "source": [
        "rf_clf.fit(X_train,y_train)\n",
        "ada_clf.fit(X_train,y_train)"
      ]
    },
    {
      "cell_type": "code",
      "execution_count": null,
      "metadata": {
        "id": "uAOSbed7ArO-",
        "outputId": "e4900b41-3ec8-4df5-d2fd-2ffb86a64175"
      },
      "outputs": [
        {
          "name": "stdout",
          "output_type": "stream",
          "text": [
            "rf 정확도: 0.8840\n",
            "ada 정확도: 0.7304\n"
          ]
        }
      ],
      "source": [
        "from sklearn.metrics import accuracy_score\n",
        "rf_pred = rf_clf.predict(X_test)\n",
        "ada_pred = ada_clf.predict(X_test)\n",
        "\n",
        "print('rf 정확도: {0:.4f}'.format(accuracy_score(y_test,rf_pred)))\n",
        "print('ada 정확도: {0:.4f}'.format(accuracy_score(y_test,ada_pred)))"
      ]
    },
    {
      "cell_type": "code",
      "execution_count": null,
      "metadata": {
        "id": "FzD47bz9ArO-"
      },
      "outputs": [],
      "source": [
        "# from sklearn.metrics import accuracy_score, precision_score , recall_score , confusion_matrix,f1_score, roc_auc_score\n",
        "# 정확도 측정 함수\n",
        "# def get_clf_eval(y_test , pred=None, pred_proba=None):\n",
        "#     confusion = confusion_matrix( y_test, pred)\n",
        "#     accuracy = accuracy_score(y_test , pred)\n",
        "#     precision = precision_score(y_test , pred)\n",
        "#     recall = recall_score(y_test , pred)\n",
        "#     f1 = f1_score(y_test, pred)\n",
        "#     print('오차 행렬')\n",
        "#     print(confusion)\n",
        "#     #roc-auc 추가\n",
        "#     roc_auc=roc_auc_score(y_test, pred_proba)\n",
        "#     print('정확도: {0:.4f}, 정밀도: {1:.4f}, 재현율: {2:.4f}, f1:{3:.4f}, AUC:{4:.4f}'.format(accuracy, precision ,recall,f1,roc_auc))"
      ]
    },
    {
      "cell_type": "code",
      "execution_count": null,
      "metadata": {
        "id": "weGHa_8xArO-"
      },
      "outputs": [],
      "source": [
        "pred = np.array([rf_pred,ada_pred,xgb_pred])\n",
        "# print(pred.shape)\n",
        "pred = np.transpose(pred)\n",
        "# print(pred.shape)"
      ]
    },
    {
      "cell_type": "code",
      "execution_count": null,
      "metadata": {
        "id": "GA9wrnESArO_",
        "outputId": "0dcf2d84-42b1-419c-c88e-61051d499570"
      },
      "outputs": [
        {
          "name": "stdout",
          "output_type": "stream",
          "text": [
            "스태킹 앙상블 결과 : 0.9010\n"
          ]
        }
      ],
      "source": [
        "lr_final.fit(pred,y_test)\n",
        "final = lr_final.predict(pred)\n",
        "print('스태킹 앙상블 결과 : {0:.4f}'.format(accuracy_score(y_test,final)))"
      ]
    },
    {
      "cell_type": "code",
      "execution_count": null,
      "metadata": {
        "id": "d13PH1r0ArO_"
      },
      "outputs": [],
      "source": [
        "# DB 인서트\n",
        "final_df = pd.DataFrame(final)\n",
        "final_df.to_sql(name='ODS_PREDICT_QTY',if_exists=\"append\",con=engine,index=False)"
      ]
    },
    {
      "cell_type": "code",
      "execution_count": null,
      "metadata": {
        "id": "-nOdc9jeArO_"
      },
      "outputs": [],
      "source": [
        ""
      ]
    }
  ],
  "metadata": {
    "kernelspec": {
      "display_name": "Python 3",
      "language": "python",
      "name": "python3"
    },
    "language_info": {
      "codemirror_mode": {
        "name": "ipython",
        "version": 3
      },
      "file_extension": ".py",
      "mimetype": "text/x-python",
      "name": "python",
      "nbconvert_exporter": "python",
      "pygments_lexer": "ipython3",
      "version": "3.7.7"
    },
    "colab": {
      "name": "제품개발서비스 ML 스크립트.ipynb",
      "provenance": []
    }
  },
  "nbformat": 4,
  "nbformat_minor": 0
}